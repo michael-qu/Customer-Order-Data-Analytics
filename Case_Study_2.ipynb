{
 "cells": [
  {
   "cell_type": "markdown",
   "id": "a349c336",
   "metadata": {},
   "source": [
    "<div class=\"alert alert-block alert-info\">\n",
    "<h1> Case Study 2 </h1>\n",
    "</div>"
   ]
  },
  {
   "cell_type": "code",
   "execution_count": 162,
   "id": "4721b290",
   "metadata": {},
   "outputs": [],
   "source": [
    "import numpy as np\n",
    "import pandas as pd\n",
    "import matplotlib.pyplot as plt\n",
    "from matplotlib import colors\n",
    "%config InlineBackend.figure_format = 'retina'"
   ]
  },
  {
   "cell_type": "code",
   "execution_count": 163,
   "id": "356a0f94",
   "metadata": {},
   "outputs": [],
   "source": [
    "df = pd.read_csv('casestudy.csv')\n",
    "# Remove leading/trailing spaces from the email entries\n",
    "df['customer_email'] = df['customer_email'].str.strip()"
   ]
  },
  {
   "cell_type": "markdown",
   "id": "44615c06",
   "metadata": {},
   "source": [
    "### 1. Dataset Description"
   ]
  },
  {
   "cell_type": "code",
   "execution_count": 164,
   "id": "ca02890f",
   "metadata": {},
   "outputs": [
    {
     "data": {
      "text/html": [
       "<div>\n",
       "<style scoped>\n",
       "    .dataframe tbody tr th:only-of-type {\n",
       "        vertical-align: middle;\n",
       "    }\n",
       "\n",
       "    .dataframe tbody tr th {\n",
       "        vertical-align: top;\n",
       "    }\n",
       "\n",
       "    .dataframe thead th {\n",
       "        text-align: right;\n",
       "    }\n",
       "</style>\n",
       "<table border=\"1\" class=\"dataframe\">\n",
       "  <thead>\n",
       "    <tr style=\"text-align: right;\">\n",
       "      <th></th>\n",
       "      <th>Unnamed: 0</th>\n",
       "      <th>customer_email</th>\n",
       "      <th>net_revenue</th>\n",
       "      <th>year</th>\n",
       "    </tr>\n",
       "  </thead>\n",
       "  <tbody>\n",
       "    <tr>\n",
       "      <th>0</th>\n",
       "      <td>0</td>\n",
       "      <td>nhknapwsbx@gmail.com</td>\n",
       "      <td>249.92</td>\n",
       "      <td>2015</td>\n",
       "    </tr>\n",
       "    <tr>\n",
       "      <th>1</th>\n",
       "      <td>1</td>\n",
       "      <td>joiuzbvcpn@gmail.com</td>\n",
       "      <td>87.61</td>\n",
       "      <td>2015</td>\n",
       "    </tr>\n",
       "    <tr>\n",
       "      <th>2</th>\n",
       "      <td>2</td>\n",
       "      <td>ukkjctepxt@gmail.com</td>\n",
       "      <td>168.38</td>\n",
       "      <td>2015</td>\n",
       "    </tr>\n",
       "    <tr>\n",
       "      <th>3</th>\n",
       "      <td>3</td>\n",
       "      <td>gykatilzrt@gmail.com</td>\n",
       "      <td>62.40</td>\n",
       "      <td>2015</td>\n",
       "    </tr>\n",
       "    <tr>\n",
       "      <th>4</th>\n",
       "      <td>4</td>\n",
       "      <td>mmsgsrtxah@gmail.com</td>\n",
       "      <td>43.08</td>\n",
       "      <td>2015</td>\n",
       "    </tr>\n",
       "    <tr>\n",
       "      <th>5</th>\n",
       "      <td>5</td>\n",
       "      <td>mobvusnzfr@gmail.com</td>\n",
       "      <td>39.44</td>\n",
       "      <td>2015</td>\n",
       "    </tr>\n",
       "    <tr>\n",
       "      <th>6</th>\n",
       "      <td>6</td>\n",
       "      <td>kxwkqvacsv@gmail.com</td>\n",
       "      <td>171.46</td>\n",
       "      <td>2015</td>\n",
       "    </tr>\n",
       "    <tr>\n",
       "      <th>7</th>\n",
       "      <td>7</td>\n",
       "      <td>iqmnugdcjs@gmail.com</td>\n",
       "      <td>111.99</td>\n",
       "      <td>2015</td>\n",
       "    </tr>\n",
       "    <tr>\n",
       "      <th>8</th>\n",
       "      <td>8</td>\n",
       "      <td>baiikostmd@gmail.com</td>\n",
       "      <td>170.70</td>\n",
       "      <td>2015</td>\n",
       "    </tr>\n",
       "    <tr>\n",
       "      <th>9</th>\n",
       "      <td>9</td>\n",
       "      <td>lfeafnigbu@gmail.com</td>\n",
       "      <td>54.99</td>\n",
       "      <td>2015</td>\n",
       "    </tr>\n",
       "  </tbody>\n",
       "</table>\n",
       "</div>"
      ],
      "text/plain": [
       "   Unnamed: 0        customer_email  net_revenue  year\n",
       "0           0  nhknapwsbx@gmail.com       249.92  2015\n",
       "1           1  joiuzbvcpn@gmail.com        87.61  2015\n",
       "2           2  ukkjctepxt@gmail.com       168.38  2015\n",
       "3           3  gykatilzrt@gmail.com        62.40  2015\n",
       "4           4  mmsgsrtxah@gmail.com        43.08  2015\n",
       "5           5  mobvusnzfr@gmail.com        39.44  2015\n",
       "6           6  kxwkqvacsv@gmail.com       171.46  2015\n",
       "7           7  iqmnugdcjs@gmail.com       111.99  2015\n",
       "8           8  baiikostmd@gmail.com       170.70  2015\n",
       "9           9  lfeafnigbu@gmail.com        54.99  2015"
      ]
     },
     "execution_count": 164,
     "metadata": {},
     "output_type": "execute_result"
    }
   ],
   "source": [
    "df.head(10)"
   ]
  },
  {
   "cell_type": "code",
   "execution_count": 165,
   "id": "60a947b7",
   "metadata": {},
   "outputs": [
    {
     "name": "stdout",
     "output_type": "stream",
     "text": [
      "<class 'pandas.core.frame.DataFrame'>\n",
      "RangeIndex: 685927 entries, 0 to 685926\n",
      "Data columns (total 4 columns):\n",
      " #   Column          Non-Null Count   Dtype  \n",
      "---  ------          --------------   -----  \n",
      " 0   Unnamed: 0      685927 non-null  int64  \n",
      " 1   customer_email  685927 non-null  object \n",
      " 2   net_revenue     685927 non-null  float64\n",
      " 3   year            685927 non-null  int64  \n",
      "dtypes: float64(1), int64(2), object(1)\n",
      "memory usage: 20.9+ MB\n"
     ]
    }
   ],
   "source": [
    "df.info()"
   ]
  },
  {
   "cell_type": "markdown",
   "id": "c442a9a3",
   "metadata": {},
   "source": [
    "### 2. Data Preparation"
   ]
  },
  {
   "cell_type": "code",
   "execution_count": 166,
   "id": "b6767822",
   "metadata": {},
   "outputs": [
    {
     "name": "stdout",
     "output_type": "stream",
     "text": [
      "All Customers\n",
      "        Unnamed: 0        customer_email  net_revenue  year\n",
      "0                0  nhknapwsbx@gmail.com       249.92  2015\n",
      "1                1  joiuzbvcpn@gmail.com        87.61  2015\n",
      "2                2  ukkjctepxt@gmail.com       168.38  2015\n",
      "3                3  gykatilzrt@gmail.com        62.40  2015\n",
      "4                4  mmsgsrtxah@gmail.com        43.08  2015\n",
      "...            ...                   ...          ...   ...\n",
      "231289      231289  xtrpmgjbwp@gmail.com       216.89  2015\n",
      "231290      231290  peeorxpsbr@gmail.com        39.16  2015\n",
      "231291      231291  vanasezjpw@gmail.com       233.46  2015\n",
      "231292      231292  dnpremlztb@gmail.com       136.27  2015\n",
      "231293      231293  qsgswrpycl@gmail.com        60.24  2015\n",
      "\n",
      "[231294 rows x 4 columns]\n",
      "        Unnamed: 0        customer_email  net_revenue  year\n",
      "231294      231294  mwrossuukz@gmail.com       197.26  2016\n",
      "231295      231295  gkwsoupawk@gmail.com        38.28  2016\n",
      "231296      231296  vlyigtgfzs@gmail.com       154.57  2016\n",
      "231297      231297  yfirychuhk@gmail.com       102.47  2016\n",
      "231298      231298  trnzgqinuu@gmail.com        32.03  2016\n",
      "...            ...                   ...          ...   ...\n",
      "435935      435935  mezrjfkced@gmail.com       114.17  2016\n",
      "435936      435936  rdotspqdxi@gmail.com       169.79  2016\n",
      "435937      435937  fkweqlmmjw@gmail.com        79.71  2016\n",
      "435938      435938  pidugzoeej@gmail.com       116.80  2016\n",
      "435939      435939  kxqglfdktu@gmail.com        37.31  2016\n",
      "\n",
      "[204646 rows x 4 columns]\n",
      "        Unnamed: 0        customer_email  net_revenue  year\n",
      "435940      435940  mwrossuukz@gmail.com        96.61  2017\n",
      "435941      435941  qvjfterwnk@gmail.com       176.00  2017\n",
      "435942      435942  vlyigtgfzs@gmail.com        73.47  2017\n",
      "435943      435943  yfirychuhk@gmail.com       138.17  2017\n",
      "435944      435944  fdkiioqtli@gmail.com       156.87  2017\n",
      "...            ...                   ...          ...   ...\n",
      "685922      685922  qzqttwiftu@gmail.com       184.58  2017\n",
      "685923      685923  pjodiifjop@gmail.com       133.03  2017\n",
      "685924      685924  appaplmgko@gmail.com       200.98  2017\n",
      "685925      685925  wvkpmwsgck@gmail.com       235.35  2017\n",
      "685926      685926  aregboumbw@gmail.com       208.43  2017\n",
      "\n",
      "[249987 rows x 4 columns]\n",
      "New Customers\n",
      "        Unnamed: 0        customer_email  net_revenue  year\n",
      "231294      231294  mwrossuukz@gmail.com       197.26  2016\n",
      "231295      231295  gkwsoupawk@gmail.com        38.28  2016\n",
      "231296      231296  vlyigtgfzs@gmail.com       154.57  2016\n",
      "231297      231297  yfirychuhk@gmail.com       102.47  2016\n",
      "231298      231298  trnzgqinuu@gmail.com        32.03  2016\n",
      "...            ...                   ...          ...   ...\n",
      "435932      435932  tnaiqnnlpb@gmail.com        34.15  2016\n",
      "435933      435933  sqodpufunf@gmail.com        29.62  2016\n",
      "435934      435934  dcakqgznnm@gmail.com       146.47  2016\n",
      "435936      435936  rdotspqdxi@gmail.com       169.79  2016\n",
      "435937      435937  fkweqlmmjw@gmail.com        79.71  2016\n",
      "\n",
      "[136891 rows x 4 columns]\n",
      "        Unnamed: 0        customer_email  net_revenue  year\n",
      "435941      435941  qvjfterwnk@gmail.com       176.00  2017\n",
      "435944      435944  fdkiioqtli@gmail.com       156.87  2017\n",
      "435945      435945  vpsfdhgrfo@gmail.com       214.53  2017\n",
      "435949      435949  pnnenkxlpj@gmail.com        35.92  2017\n",
      "435950      435950  qkjragcrsd@gmail.com        11.31  2017\n",
      "...            ...                   ...          ...   ...\n",
      "685922      685922  qzqttwiftu@gmail.com       184.58  2017\n",
      "685923      685923  pjodiifjop@gmail.com       133.03  2017\n",
      "685924      685924  appaplmgko@gmail.com       200.98  2017\n",
      "685925      685925  wvkpmwsgck@gmail.com       235.35  2017\n",
      "685926      685926  aregboumbw@gmail.com       208.43  2017\n",
      "\n",
      "[173449 rows x 4 columns]\n",
      "Lost Customers\n",
      "        Unnamed: 0        customer_email  net_revenue  year\n",
      "0                0  nhknapwsbx@gmail.com       249.92  2015\n",
      "1                1  joiuzbvcpn@gmail.com        87.61  2015\n",
      "2                2  ukkjctepxt@gmail.com       168.38  2015\n",
      "3                3  gykatilzrt@gmail.com        62.40  2015\n",
      "4                4  mmsgsrtxah@gmail.com        43.08  2015\n",
      "...            ...                   ...          ...   ...\n",
      "231289      231289  xtrpmgjbwp@gmail.com       216.89  2015\n",
      "231290      231290  peeorxpsbr@gmail.com        39.16  2015\n",
      "231291      231291  vanasezjpw@gmail.com       233.46  2015\n",
      "231292      231292  dnpremlztb@gmail.com       136.27  2015\n",
      "231293      231293  qsgswrpycl@gmail.com        60.24  2015\n",
      "\n",
      "[163539 rows x 4 columns]\n",
      "        Unnamed: 0        customer_email  net_revenue  year\n",
      "231295      231295  gkwsoupawk@gmail.com        38.28  2016\n",
      "231298      231298  trnzgqinuu@gmail.com        32.03  2016\n",
      "231299      231299  hhxxpwlakg@gmail.com       125.93  2016\n",
      "231303      231303  lfeafnigbu@gmail.com        35.06  2016\n",
      "231304      231304  cemerinvsn@gmail.com        50.25  2016\n",
      "...            ...                   ...          ...   ...\n",
      "435933      435933  sqodpufunf@gmail.com        29.62  2016\n",
      "435935      435935  mezrjfkced@gmail.com       114.17  2016\n",
      "435936      435936  rdotspqdxi@gmail.com       169.79  2016\n",
      "435938      435938  pidugzoeej@gmail.com       116.80  2016\n",
      "435939      435939  kxqglfdktu@gmail.com        37.31  2016\n",
      "\n",
      "[128108 rows x 4 columns]\n",
      "Existing Customers in the current year\n",
      "        Unnamed: 0        customer_email  net_revenue  year\n",
      "231302      231302  baiikostmd@gmail.com       142.57  2016\n",
      "231303      231303  lfeafnigbu@gmail.com        35.06  2016\n",
      "231308      231308  sktswronzp@gmail.com       238.44  2016\n",
      "231309      231309  tqxsjlgjpi@gmail.com        33.50  2016\n",
      "231310      231310  hxshgpdxtr@gmail.com       217.35  2016\n",
      "...            ...                   ...          ...   ...\n",
      "435927      435927  yeserbsmyf@gmail.com        83.72  2016\n",
      "435930      435930  nyunstvnpc@gmail.com        18.56  2016\n",
      "435935      435935  mezrjfkced@gmail.com       114.17  2016\n",
      "435938      435938  pidugzoeej@gmail.com       116.80  2016\n",
      "435939      435939  kxqglfdktu@gmail.com        37.31  2016\n",
      "\n",
      "[67755 rows x 4 columns]\n",
      "        Unnamed: 0        customer_email  net_revenue  year\n",
      "435940      435940  mwrossuukz@gmail.com        96.61  2017\n",
      "435942      435942  vlyigtgfzs@gmail.com        73.47  2017\n",
      "435943      435943  yfirychuhk@gmail.com       138.17  2017\n",
      "435946      435946  dkbsemibna@gmail.com        95.54  2017\n",
      "435947      435947  yixtbjnxce@gmail.com       133.86  2017\n",
      "...            ...                   ...          ...   ...\n",
      "640574      640574  bldkfoqgov@gmail.com       221.75  2017\n",
      "640575      640575  tnpozzisow@gmail.com       240.04  2017\n",
      "640578      640578  tnaiqnnlpb@gmail.com        76.42  2017\n",
      "640580      640580  dcakqgznnm@gmail.com        62.66  2017\n",
      "640583      640583  fkweqlmmjw@gmail.com        21.78  2017\n",
      "\n",
      "[76538 rows x 4 columns]\n",
      "Existing Customers in the previous year\n",
      "        Unnamed: 0        customer_email  net_revenue  year\n",
      "8                8  baiikostmd@gmail.com       170.70  2015\n",
      "9                9  lfeafnigbu@gmail.com        54.99  2015\n",
      "14              14  sktswronzp@gmail.com       102.87  2015\n",
      "15              15  tqxsjlgjpi@gmail.com       107.71  2015\n",
      "16              16  hxshgpdxtr@gmail.com       180.59  2015\n",
      "...            ...                   ...          ...   ...\n",
      "204633      204633  yeserbsmyf@gmail.com        46.60  2015\n",
      "204636      204636  nyunstvnpc@gmail.com        24.97  2015\n",
      "204641      204641  mezrjfkced@gmail.com       118.19  2015\n",
      "204644      204644  pidugzoeej@gmail.com        24.29  2015\n",
      "204645      204645  kxqglfdktu@gmail.com        73.32  2015\n",
      "\n",
      "[67755 rows x 4 columns]\n",
      "        Unnamed: 0        customer_email  net_revenue  year\n",
      "231294      231294  mwrossuukz@gmail.com       197.26  2016\n",
      "231296      231296  vlyigtgfzs@gmail.com       154.57  2016\n",
      "231297      231297  yfirychuhk@gmail.com       102.47  2016\n",
      "231300      231300  dkbsemibna@gmail.com         9.16  2016\n",
      "231301      231301  yixtbjnxce@gmail.com       201.32  2016\n",
      "...            ...                   ...          ...   ...\n",
      "435928      435928  bldkfoqgov@gmail.com       127.84  2016\n",
      "435929      435929  tnpozzisow@gmail.com       192.22  2016\n",
      "435932      435932  tnaiqnnlpb@gmail.com        34.15  2016\n",
      "435934      435934  dcakqgznnm@gmail.com       146.47  2016\n",
      "435937      435937  fkweqlmmjw@gmail.com        79.71  2016\n",
      "\n",
      "[76538 rows x 4 columns]\n"
     ]
    }
   ],
   "source": [
    "# All Customers\n",
    "print('All Customers')\n",
    "dfList_all = []\n",
    "for i in [2015, 2016, 2017]:\n",
    "    df_tmp = df[df['year']==i]\n",
    "    print(df_tmp)\n",
    "    dfList_all.append(df_tmp)\n",
    "    \n",
    "# New Customers\n",
    "print('New Customers')\n",
    "dfList_nc = []\n",
    "for i in [1, 2]:\n",
    "    prevCList = list(dfList_all[i-1]['customer_email'])\n",
    "    df_tmp = dfList_all[i][dfList_all[i]['customer_email'].isin(prevCList) == False]\n",
    "    print(df_tmp)\n",
    "    dfList_nc.append(df_tmp)\n",
    "\n",
    "# Lost Customers\n",
    "print('Lost Customers')\n",
    "dfList_lc = []\n",
    "for i in [0, 1]:\n",
    "    nextCList = list(dfList_all[i+1]['customer_email'])\n",
    "    df_tmp = dfList_all[i][dfList_all[i]['customer_email'].isin(nextCList) == False]\n",
    "    print(df_tmp)\n",
    "    dfList_lc.append(df_tmp)    \n",
    "    \n",
    "# Existing Customer Revenue in the current year\n",
    "print('Existing Customers in the current year')\n",
    "dfList_ec_cur = []\n",
    "for i in [0, 1]:\n",
    "    newCList = list(dfList_nc[i]['customer_email'])\n",
    "    df_tmp = dfList_all[i+1][dfList_all[i+1]['customer_email'].isin(newCList) == False]\n",
    "    print(df_tmp)\n",
    "    dfList_ec_cur.append(df_tmp)\n",
    "\n",
    "# Existing Customer Revenue in the previous year\n",
    "print('Existing Customers in the previous year')\n",
    "dfList_ec_prev = []\n",
    "for i in [0, 1]:\n",
    "    lostCList = list(dfList_lc[i]['customer_email'])\n",
    "    df_tmp = dfList_all[i][dfList_all[i]['customer_email'].isin(lostCList) == False]\n",
    "    print(df_tmp)\n",
    "    dfList_ec_prev.append(df_tmp)"
   ]
  },
  {
   "cell_type": "markdown",
   "id": "98bc1c97",
   "metadata": {},
   "source": [
    "### 3. Summary for Each Year"
   ]
  },
  {
   "cell_type": "code",
   "execution_count": 167,
   "id": "ce0a02e1",
   "metadata": {},
   "outputs": [
    {
     "data": {
      "text/html": [
       "<div>\n",
       "<style scoped>\n",
       "    .dataframe tbody tr th:only-of-type {\n",
       "        vertical-align: middle;\n",
       "    }\n",
       "\n",
       "    .dataframe tbody tr th {\n",
       "        vertical-align: top;\n",
       "    }\n",
       "\n",
       "    .dataframe thead th {\n",
       "        text-align: right;\n",
       "    }\n",
       "</style>\n",
       "<table border=\"1\" class=\"dataframe\">\n",
       "  <thead>\n",
       "    <tr style=\"text-align: right;\">\n",
       "      <th></th>\n",
       "      <th>Total Revenue</th>\n",
       "      <th>New Customer Revenue</th>\n",
       "      <th>Existing Customer Growth</th>\n",
       "      <th>Revenue lost from attrition</th>\n",
       "      <th>Existing Customer Revenue Current Year</th>\n",
       "      <th>Existing Customer Revenue Previous Year</th>\n",
       "      <th>Total Customers Current Year</th>\n",
       "      <th>Total Customers Previous Year</th>\n",
       "    </tr>\n",
       "  </thead>\n",
       "  <tbody>\n",
       "    <tr>\n",
       "      <th>2015</th>\n",
       "      <td>29036749.19</td>\n",
       "      <td>NaN</td>\n",
       "      <td>NaN</td>\n",
       "      <td>NaN</td>\n",
       "      <td>NaN</td>\n",
       "      <td>NaN</td>\n",
       "      <td>231294</td>\n",
       "      <td>NaN</td>\n",
       "    </tr>\n",
       "    <tr>\n",
       "      <th>2016</th>\n",
       "      <td>25730943.59</td>\n",
       "      <td>1.720637e+07</td>\n",
       "      <td>39043.65</td>\n",
       "      <td>20551216.15</td>\n",
       "      <td>8524576.69</td>\n",
       "      <td>8485533.04</td>\n",
       "      <td>204646</td>\n",
       "      <td>231294.0</td>\n",
       "    </tr>\n",
       "    <tr>\n",
       "      <th>2017</th>\n",
       "      <td>31417495.03</td>\n",
       "      <td>2.176921e+07</td>\n",
       "      <td>63857.06</td>\n",
       "      <td>16146518.63</td>\n",
       "      <td>9648282.02</td>\n",
       "      <td>9584424.96</td>\n",
       "      <td>249987</td>\n",
       "      <td>204646.0</td>\n",
       "    </tr>\n",
       "  </tbody>\n",
       "</table>\n",
       "</div>"
      ],
      "text/plain": [
       "      Total Revenue  New Customer Revenue  Existing Customer Growth  \\\n",
       "2015    29036749.19                   NaN                       NaN   \n",
       "2016    25730943.59          1.720637e+07                  39043.65   \n",
       "2017    31417495.03          2.176921e+07                  63857.06   \n",
       "\n",
       "      Revenue lost from attrition  Existing Customer Revenue Current Year  \\\n",
       "2015                          NaN                                     NaN   \n",
       "2016                  20551216.15                              8524576.69   \n",
       "2017                  16146518.63                              9648282.02   \n",
       "\n",
       "      Existing Customer Revenue Previous Year  Total Customers Current Year  \\\n",
       "2015                                      NaN                        231294   \n",
       "2016                               8485533.04                        204646   \n",
       "2017                               9584424.96                        249987   \n",
       "\n",
       "      Total Customers Previous Year  \n",
       "2015                            NaN  \n",
       "2016                       231294.0  \n",
       "2017                       204646.0  "
      ]
     },
     "execution_count": 167,
     "metadata": {},
     "output_type": "execute_result"
    }
   ],
   "source": [
    "total_rev = []\n",
    "nc_rev = []\n",
    "ec_growth = []\n",
    "rev_lost = []\n",
    "ec_rev_cur = []\n",
    "ec_rev_prev = []\n",
    "tc_count_cur = []\n",
    "tc_count_prev = []\n",
    "nc = []\n",
    "lc = []\n",
    "\n",
    "for i in range(3):\n",
    "    total_rev.append(sum(dfList_all[i]['net_revenue']))\n",
    "    tc_count_cur.append(len(dfList_all[i]))\n",
    "    \n",
    "    # The information below is not relevant to the first year (2015)\n",
    "    if i==0:\n",
    "        nc_rev.append(np.nan)\n",
    "        ec_growth.append(np.nan)\n",
    "        rev_lost.append(np.nan)\n",
    "        ec_rev_cur.append(np.nan)\n",
    "        ec_rev_prev.append(np.nan)\n",
    "        tc_count_prev.append(np.nan)\n",
    "        continue\n",
    "    \n",
    "    nc_rev.append(sum(dfList_nc[i-1]['net_revenue']))\n",
    "    ec_growth.append(sum(dfList_ec_cur[i-1]['net_revenue']) - sum(dfList_ec_prev[i-1]['net_revenue']))\n",
    "    rev_lost.append(sum(dfList_lc[i-1]['net_revenue']))\n",
    "    ec_rev_cur.append(sum(dfList_ec_cur[i-1]['net_revenue']))\n",
    "    ec_rev_prev.append(sum(dfList_ec_prev[i-1]['net_revenue']))\n",
    "    tc_count_prev.append(len(dfList_all[i-1]))\n",
    "\n",
    "df_output = pd.DataFrame({'Total Revenue': total_rev,\n",
    "                         'New Customer Revenue': nc_rev,\n",
    "                         'Existing Customer Growth': ec_growth,\n",
    "                         'Revenue lost from attrition': rev_lost,\n",
    "                         'Existing Customer Revenue Current Year': ec_rev_cur,\n",
    "                         'Existing Customer Revenue Previous Year': ec_rev_prev,\n",
    "                         'Total Customers Current Year': tc_count_cur,\n",
    "                         'Total Customers Previous Year': tc_count_prev},\n",
    "                         index = ['2015', '2016', '2017'])\n",
    "df_output"
   ]
  },
  {
   "cell_type": "markdown",
   "id": "a3fe45de",
   "metadata": {},
   "source": [
    "New customers in 2016:"
   ]
  },
  {
   "cell_type": "code",
   "execution_count": 168,
   "id": "6a34388f",
   "metadata": {},
   "outputs": [
    {
     "data": {
      "text/plain": [
       "231294    mwrossuukz@gmail.com\n",
       "231295    gkwsoupawk@gmail.com\n",
       "231296    vlyigtgfzs@gmail.com\n",
       "231297    yfirychuhk@gmail.com\n",
       "231298    trnzgqinuu@gmail.com\n",
       "                  ...         \n",
       "435932    tnaiqnnlpb@gmail.com\n",
       "435933    sqodpufunf@gmail.com\n",
       "435934    dcakqgznnm@gmail.com\n",
       "435936    rdotspqdxi@gmail.com\n",
       "435937    fkweqlmmjw@gmail.com\n",
       "Name: customer_email, Length: 136891, dtype: object"
      ]
     },
     "execution_count": 168,
     "metadata": {},
     "output_type": "execute_result"
    }
   ],
   "source": [
    "dfList_nc[0]['customer_email']"
   ]
  },
  {
   "cell_type": "markdown",
   "id": "5171d7cf",
   "metadata": {},
   "source": [
    "New customers in 2017:"
   ]
  },
  {
   "cell_type": "code",
   "execution_count": 169,
   "id": "5583cb90",
   "metadata": {},
   "outputs": [
    {
     "data": {
      "text/plain": [
       "435941    qvjfterwnk@gmail.com\n",
       "435944    fdkiioqtli@gmail.com\n",
       "435945    vpsfdhgrfo@gmail.com\n",
       "435949    pnnenkxlpj@gmail.com\n",
       "435950    qkjragcrsd@gmail.com\n",
       "                  ...         \n",
       "685922    qzqttwiftu@gmail.com\n",
       "685923    pjodiifjop@gmail.com\n",
       "685924    appaplmgko@gmail.com\n",
       "685925    wvkpmwsgck@gmail.com\n",
       "685926    aregboumbw@gmail.com\n",
       "Name: customer_email, Length: 173449, dtype: object"
      ]
     },
     "execution_count": 169,
     "metadata": {},
     "output_type": "execute_result"
    }
   ],
   "source": [
    "dfList_nc[1]['customer_email']"
   ]
  },
  {
   "cell_type": "markdown",
   "id": "3b4262e5",
   "metadata": {},
   "source": [
    "Lost customers in 2016 (those who made orders in 2015 but didn't in 2016):"
   ]
  },
  {
   "cell_type": "code",
   "execution_count": 170,
   "id": "075b1209",
   "metadata": {},
   "outputs": [
    {
     "data": {
      "text/plain": [
       "0         nhknapwsbx@gmail.com\n",
       "1         joiuzbvcpn@gmail.com\n",
       "2         ukkjctepxt@gmail.com\n",
       "3         gykatilzrt@gmail.com\n",
       "4         mmsgsrtxah@gmail.com\n",
       "                  ...         \n",
       "231289    xtrpmgjbwp@gmail.com\n",
       "231290    peeorxpsbr@gmail.com\n",
       "231291    vanasezjpw@gmail.com\n",
       "231292    dnpremlztb@gmail.com\n",
       "231293    qsgswrpycl@gmail.com\n",
       "Name: customer_email, Length: 163539, dtype: object"
      ]
     },
     "execution_count": 170,
     "metadata": {},
     "output_type": "execute_result"
    }
   ],
   "source": [
    "dfList_lc[0]['customer_email']"
   ]
  },
  {
   "cell_type": "markdown",
   "id": "f07a6f88",
   "metadata": {},
   "source": [
    "Lost customers in 2017 (those who made orders in 2016 but didn't in 2017):"
   ]
  },
  {
   "cell_type": "code",
   "execution_count": 171,
   "id": "d95ccf52",
   "metadata": {},
   "outputs": [
    {
     "data": {
      "text/plain": [
       "231295    gkwsoupawk@gmail.com\n",
       "231298    trnzgqinuu@gmail.com\n",
       "231299    hhxxpwlakg@gmail.com\n",
       "231303    lfeafnigbu@gmail.com\n",
       "231304    cemerinvsn@gmail.com\n",
       "                  ...         \n",
       "435933    sqodpufunf@gmail.com\n",
       "435935    mezrjfkced@gmail.com\n",
       "435936    rdotspqdxi@gmail.com\n",
       "435938    pidugzoeej@gmail.com\n",
       "435939    kxqglfdktu@gmail.com\n",
       "Name: customer_email, Length: 128108, dtype: object"
      ]
     },
     "execution_count": 171,
     "metadata": {},
     "output_type": "execute_result"
    }
   ],
   "source": [
    "dfList_lc[1]['customer_email']"
   ]
  },
  {
   "cell_type": "markdown",
   "id": "e353cc98",
   "metadata": {},
   "source": [
    "### 4. Data Visualization and Observations"
   ]
  },
  {
   "cell_type": "code",
   "execution_count": 172,
   "id": "bdb4f32f",
   "metadata": {},
   "outputs": [
    {
     "data": {
      "image/png": "[encoded data removed]",
      "text/plain": [
       "<Figure size 288x288 with 1 Axes>"
      ]
     },
     "metadata": {
      "image/png": {
       "height": 267,
       "width": 356
      },
      "needs_background": "light"
     },
     "output_type": "display_data"
    }
   ],
   "source": [
    "output1=dict()\n",
    "output1['New'] = []\n",
    "output1['Existing'] = []\n",
    "output1['Lost'] = []\n",
    "\n",
    "for i in range(2):\n",
    "    output1['New'].append(len(dfList_nc[i]))\n",
    "    output1['Existing'].append(len(dfList_ec_cur[i]))\n",
    "    output1['Lost'].append(len(dfList_lc[i]))\n",
    "\n",
    "# Slope Graph\n",
    "fig, ax = plt.subplots(figsize=(4,4))\n",
    "ax.set_xlim(0-.1,1+.1)\n",
    "ax.set_ylim(0,200000) #match ylim with the range of values\n",
    "\n",
    "for key in output1.keys():\n",
    "    a,b = output1[key]\n",
    "    color = '#878787'\n",
    "    if key=='New':\n",
    "        color = '#2205fa' #highlight new customers using blue\n",
    "    if key=='Lost':\n",
    "        color = '#F46C43' #highlight lost customers using red\n",
    "    ax.plot([0,1], [a,b], 'o-', lw=3, c=color) #line plot with x=[0,1] y=[a,b] for each key\n",
    "    ax.text(0-.04, a, f\"{a:.0f}\", color=color,\n",
    "            horizontalalignment='right', verticalalignment='center', size=12) #print value of a\n",
    "    ax.text(1+.04, b, f\"{b:.0f}\", color=color,\n",
    "            horizontalalignment='left', verticalalignment='center', size=12)  #print value of b\n",
    "    ax.text(0-.30, a, key, color=color,\n",
    "            horizontalalignment='right', verticalalignment='center', size=12) #print category\n",
    "\n",
    "\n",
    "ax.set_title(\"Number of Customers\", size=14)\n",
    "ax.spines['bottom'].set_bounds(0, 1)\n",
    "# Set categorical ticks for x axis\n",
    "ax.set_xticks([0,1])\n",
    "ax.set_xticklabels(['2016','2017'], size=12)\n",
    "# Remove ticks for y axis\n",
    "ax.set_yticks([])\n",
    "\n",
    "# Only show the bottom axis\n",
    "ax.spines['left'].set_visible(False)\n",
    "ax.spines['top'].set_visible(False)\n",
    "ax.spines['right'].set_visible(False)\n",
    "ax.spines['bottom'].set_linewidth(.5)\n",
    "\n",
    "plt.show()"
   ]
  },
  {
   "cell_type": "markdown",
   "id": "6321f9a7",
   "metadata": {},
   "source": [
    "<div class=\"alert alert-block alert-success\">\n",
    "<h3> Observation 1 </h3>\n",
    "\n",
    "As we can see from the graph above, compared with 2016, there are 27% more new customers and 13% more existing customers in 2017, and the number of lost customers has decreased 28%. At the same time, the ratio of existing customers has remained as 30~33%.\n",
    "        \n",
    "</div>"
   ]
  },
  {
   "cell_type": "code",
   "execution_count": 173,
   "id": "77b0e6a1",
   "metadata": {},
   "outputs": [
    {
     "data": {
      "image/png": "[encoded data removed]",
      "text/plain": [
       "<Figure size 432x432 with 1 Axes>"
      ]
     },
     "metadata": {
      "image/png": {
       "height": 373,
       "width": 372
      },
      "needs_background": "light"
     },
     "output_type": "display_data"
    }
   ],
   "source": [
    "output2=dict()\n",
    "output2['New'] = nc_rev[1:]\n",
    "output2['Existing'] = ec_rev_cur[1:]\n",
    "\n",
    "# Vertical stacked bar chart\n",
    "fig,ax=plt.subplots(figsize=(6,6))\n",
    "ax.set_xlim(0-.4,1+.4)\n",
    "ax.set_ylim(0,4e7) #match ylim with the range of values\n",
    "\n",
    "w = 0.5\n",
    "ax.bar(np.arange(2), output2['Existing'], color='#cccbc6', label='Existing', width=w)\n",
    "ax.bar(np.arange(2), output2['New'], bottom = output2['Existing'], color='#ebbc13', label='New', width=w)\n",
    "\n",
    "ax.set_title(\"Revenue by New and Existing Customers\", size=14)\n",
    "# Set numerical y axis\n",
    "ax.yaxis.set_label_coords(-0.08, 0.5)\n",
    "# Set categorical ticks for x axis\n",
    "ax.set_xticks([0,1])\n",
    "ax.set_xticklabels(['2016','2017'], size=12)\n",
    "ax.tick_params(axis='x', length=0)    #Hide ticks in x axis\n",
    "\n",
    "# Add legend\n",
    "ax.legend(bbox_to_anchor=(1, 1), ncol=2, prop={'size': 12}) \n",
    "\n",
    "#set background color\n",
    "ax.set_facecolor(\"#faf4ed\")\n",
    "\n",
    "\n",
    "# Only show the bottom axis\n",
    "#ax.spines['left'].set_visible(False)\n",
    "ax.spines['top'].set_visible(False)\n",
    "ax.spines['right'].set_visible(False)\n",
    "ax.spines['left'].set_linewidth(.5)\n",
    "ax.spines['bottom'].set_linewidth(.5)\n",
    "\n",
    "plt.show()"
   ]
  },
  {
   "cell_type": "markdown",
   "id": "c6964b95",
   "metadata": {},
   "source": [
    "<div class=\"alert alert-block alert-success\">\n",
    "<h3> Observation 2 </h3>\n",
    "\n",
    "As we can see from the graph above, compared with 2016, the revenue from new customers has increased 27% and that from existing customers has increased 13% in 2017, which makes the total revenue increased by 22%. At the same time, the retention rate has remained as 30~33%, which may imply that this company is relatively early in its growth cycle, with a customer revenue mix that tilts towards new customers.\n",
    "</div>"
   ]
  }
 ],
 "metadata": {
  "kernelspec": {
   "display_name": "Python 3",
   "language": "python",
   "name": "python3"
  },
  "language_info": {
   "codemirror_mode": {
    "name": "ipython",
    "version": 3
   },
   "file_extension": ".py",
   "mimetype": "text/x-python",
   "name": "python",
   "nbconvert_exporter": "python",
   "pygments_lexer": "ipython3",
   "version": "3.8.8"
  }
 },
 "nbformat": 4,
 "nbformat_minor": 5
}
